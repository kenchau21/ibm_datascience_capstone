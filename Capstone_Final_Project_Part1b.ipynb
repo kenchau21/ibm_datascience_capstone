{
 "cells": [
  {
   "cell_type": "markdown",
   "metadata": {},
   "source": [
    "# Capstone Project - Final Assignment (Part 1)"
   ]
  },
  {
   "cell_type": "markdown",
   "metadata": {},
   "source": [
    "#### Applied Data Science Capstone IBM/Coursea\n",
    "This is part 2 of the Capstone Final Assignment from Week 1"
   ]
  },
  {
   "cell_type": "markdown",
   "metadata": {},
   "source": [
    "## 2.0 Data"
   ]
  },
  {
   "cell_type": "markdown",
   "metadata": {},
   "source": [
    "<div style=\"margin-left: 25px; margin-right: 50px; text-align:justify\">In this section we are talking about what and which type of data we are using to answer the questions stated in Section 1.3.</div>"
   ]
  },
  {
   "cell_type": "markdown",
   "metadata": {},
   "source": [
    "### 2.1 &nbsp; Data Preparation"
   ]
  },
  {
   "cell_type": "markdown",
   "metadata": {},
   "source": [
    "<div style=\"margin-left: 25px; margin-right: 50px; text-align:justify\">All the data collection will be composed with two main sources:</div>\n",
    "\n",
    "<p><div style=\"margin-left: 25px; margin-right: 50px; text-align:justify\"><b>1. Foursquare API </b> - <a \n",
    "href=\"https://foursquare.com/\">https://foursquare.com/</a><br />Foursquare has a database of millions of places acquired through crowdsourcing. We will pass coordinates through the platform and the endpoint will return a list of surrounding venues in a pre-defined radius.</div></p>\n",
    "\n",
    "<p><div style=\"margin-left: 25px; margin-right: 50px; text-align:justify\"><b>2. Ottawa Opendata</b> - <a href=\"http://data.ottawa.ca/\">http://data.ottawa.ca/</a><br />The website was released by City of Ottawa to allow public to access data source for free. This dataset will help to determine the population density and household income of Barrhaven.</div></p>\n"
   ]
  }
 ],
 "metadata": {
  "kernelspec": {
   "display_name": "Python 3",
   "language": "python",
   "name": "python3"
  },
  "language_info": {
   "codemirror_mode": {
    "name": "ipython",
    "version": 3
   },
   "file_extension": ".py",
   "mimetype": "text/x-python",
   "name": "python",
   "nbconvert_exporter": "python",
   "pygments_lexer": "ipython3",
   "version": "3.6.2"
  }
 },
 "nbformat": 4,
 "nbformat_minor": 2
}
