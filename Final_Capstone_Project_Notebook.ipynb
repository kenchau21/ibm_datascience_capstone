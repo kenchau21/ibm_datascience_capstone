{
 "cells": [
  {
   "cell_type": "markdown",
   "metadata": {},
   "source": [
    "# Opening a Cafe Shop in Barrhaven - Data Analysis Notebook"
   ]
  },
  {
   "cell_type": "markdown",
   "metadata": {},
   "source": [
    "This Notebook is part of Coursera Capstone Final Project for IBM Applied Data Science Capstone course"
   ]
  },
  {
   "cell_type": "markdown",
   "metadata": {},
   "source": [
    "### Import necessary Libraries"
   ]
  },
  {
   "cell_type": "code",
   "execution_count": 1,
   "metadata": {},
   "outputs": [
    {
     "name": "stdout",
     "output_type": "stream",
     "text": [
      "Libraries imported.\n"
     ]
    }
   ],
   "source": [
    "# library to handle data in a vectorized manner\n",
    "import numpy as np\n",
    "\n",
    "# library for data analsysis\n",
    "import pandas as pd \n",
    "\n",
    "# import the BeautifulSoup library so we can parse HTML and XML documents\n",
    "from bs4 import BeautifulSoup\n",
    "\n",
    "# library to handle requests\n",
    "import requests \n",
    "\n",
    "import json # library to handle JSON files\n",
    "\n",
    "#!conda install -c conda-forge geopy --yes # uncomment this line if you haven't completed the Foursquare API lab\n",
    "from geopy.geocoders import Nominatim # convert an address into latitude and longitude values\n",
    "\n",
    "# tranform JSON file into a pandas dataframe\n",
    "from pandas.io.json import json_normalize \n",
    "\n",
    "# Matplotlib and associated plotting modules\n",
    "import matplotlib.cm as cm\n",
    "import matplotlib.colors as colors\n",
    "\n",
    "# import k-means from clustering stage\n",
    "from sklearn.cluster import KMeans\n",
    "\n",
    "#!conda install -c conda-forge folium=0.5.0 --yes # uncomment this line if you haven't completed the Foursquare API lab\n",
    "import folium # map rendering library\n",
    "\n",
    "print('Libraries imported.')"
   ]
  },
  {
   "cell_type": "markdown",
   "metadata": {},
   "source": [
    "## 1. Download and Explore Dataset"
   ]
  },
  {
   "cell_type": "markdown",
   "metadata": {},
   "source": [
    "#### Getting data from Github and Tranform the data into a pandas dataframe"
   ]
  },
  {
   "cell_type": "code",
   "execution_count": 2,
   "metadata": {},
   "outputs": [
    {
     "data": {
      "text/html": [
       "<div>\n",
       "<style>\n",
       "    .dataframe thead tr:only-child th {\n",
       "        text-align: right;\n",
       "    }\n",
       "\n",
       "    .dataframe thead th {\n",
       "        text-align: left;\n",
       "    }\n",
       "\n",
       "    .dataframe tbody tr th {\n",
       "        vertical-align: top;\n",
       "    }\n",
       "</style>\n",
       "<table border=\"1\" class=\"dataframe\">\n",
       "  <thead>\n",
       "    <tr style=\"text-align: right;\">\n",
       "      <th></th>\n",
       "      <th>PostalCode</th>\n",
       "      <th>Borough</th>\n",
       "      <th>Neighbourhood</th>\n",
       "    </tr>\n",
       "  </thead>\n",
       "  <tbody>\n",
       "    <tr>\n",
       "      <th>0</th>\n",
       "      <td>K1Y</td>\n",
       "      <td>Ottawa West</td>\n",
       "      <td>Island Park, Hintonburg, Mechanicsville, Champ...</td>\n",
       "    </tr>\n",
       "    <tr>\n",
       "      <th>1</th>\n",
       "      <td>K1S</td>\n",
       "      <td>Ottawa</td>\n",
       "      <td>The Glebe, Ottawa South, Ottawa East</td>\n",
       "    </tr>\n",
       "    <tr>\n",
       "      <th>2</th>\n",
       "      <td>K1K</td>\n",
       "      <td>Ottawa</td>\n",
       "      <td>Overbrook, Forbes, Manor Park, Viscount Alexan...</td>\n",
       "    </tr>\n",
       "    <tr>\n",
       "      <th>3</th>\n",
       "      <td>K1L</td>\n",
       "      <td>Ottawa</td>\n",
       "      <td>Vanier, McKay Lake</td>\n",
       "    </tr>\n",
       "    <tr>\n",
       "      <th>4</th>\n",
       "      <td>K1Z</td>\n",
       "      <td>Ottawa</td>\n",
       "      <td>Westboro, Carlington</td>\n",
       "    </tr>\n",
       "  </tbody>\n",
       "</table>\n",
       "</div>"
      ],
      "text/plain": [
       "  PostalCode      Borough                                      Neighbourhood\n",
       "0        K1Y  Ottawa West  Island Park, Hintonburg, Mechanicsville, Champ...\n",
       "1        K1S       Ottawa               The Glebe, Ottawa South, Ottawa East\n",
       "2        K1K       Ottawa  Overbrook, Forbes, Manor Park, Viscount Alexan...\n",
       "3        K1L       Ottawa                                 Vanier, McKay Lake\n",
       "4        K1Z       Ottawa                               Westboro, Carlington"
      ]
     },
     "execution_count": 2,
     "metadata": {},
     "output_type": "execute_result"
    }
   ],
   "source": [
    "df_ottawa = pd.read_csv(\"https://raw.githubusercontent.com/kenchau21/ibm_datascience_capstone/master/list_postal_code_of_ottawa.csv\")\n",
    "df_ottawa.head()"
   ]
  },
  {
   "cell_type": "code",
   "execution_count": 3,
   "metadata": {},
   "outputs": [
    {
     "data": {
      "text/plain": [
       "(28, 3)"
      ]
     },
     "execution_count": 3,
     "metadata": {},
     "output_type": "execute_result"
    }
   ],
   "source": [
    "df_ottawa.shape"
   ]
  },
  {
   "cell_type": "markdown",
   "metadata": {},
   "source": [
    "## 2. Importing Latitude and the Longitude Coordinates"
   ]
  },
  {
   "cell_type": "code",
   "execution_count": 4,
   "metadata": {},
   "outputs": [
    {
     "data": {
      "text/html": [
       "<div>\n",
       "<style>\n",
       "    .dataframe thead tr:only-child th {\n",
       "        text-align: right;\n",
       "    }\n",
       "\n",
       "    .dataframe thead th {\n",
       "        text-align: left;\n",
       "    }\n",
       "\n",
       "    .dataframe tbody tr th {\n",
       "        vertical-align: top;\n",
       "    }\n",
       "</style>\n",
       "<table border=\"1\" class=\"dataframe\">\n",
       "  <thead>\n",
       "    <tr style=\"text-align: right;\">\n",
       "      <th></th>\n",
       "      <th>Postal Code</th>\n",
       "      <th>Latitude</th>\n",
       "      <th>Longitude</th>\n",
       "    </tr>\n",
       "  </thead>\n",
       "  <tbody>\n",
       "    <tr>\n",
       "      <th>0</th>\n",
       "      <td>K1Y</td>\n",
       "      <td>45.402</td>\n",
       "      <td>-75.733</td>\n",
       "    </tr>\n",
       "    <tr>\n",
       "      <th>1</th>\n",
       "      <td>K1S</td>\n",
       "      <td>45.399</td>\n",
       "      <td>-75.687</td>\n",
       "    </tr>\n",
       "    <tr>\n",
       "      <th>2</th>\n",
       "      <td>K1K</td>\n",
       "      <td>45.445</td>\n",
       "      <td>-75.643</td>\n",
       "    </tr>\n",
       "    <tr>\n",
       "      <th>3</th>\n",
       "      <td>K1L</td>\n",
       "      <td>45.440</td>\n",
       "      <td>-75.663</td>\n",
       "    </tr>\n",
       "    <tr>\n",
       "      <th>4</th>\n",
       "      <td>K1Z</td>\n",
       "      <td>45.387</td>\n",
       "      <td>-75.740</td>\n",
       "    </tr>\n",
       "  </tbody>\n",
       "</table>\n",
       "</div>"
      ],
      "text/plain": [
       "  Postal Code  Latitude  Longitude\n",
       "0         K1Y    45.402    -75.733\n",
       "1         K1S    45.399    -75.687\n",
       "2         K1K    45.445    -75.643\n",
       "3         K1L    45.440    -75.663\n",
       "4         K1Z    45.387    -75.740"
      ]
     },
     "execution_count": 4,
     "metadata": {},
     "output_type": "execute_result"
    }
   ],
   "source": [
    "#Get coordinates data from GitHub\n",
    "df_coordinates= pd.read_csv(\"https://raw.githubusercontent.com/kenchau21/ibm_datascience_capstone/master/list_coordinates_of_ottawa.csv\")\n",
    "df_coordinates.head()"
   ]
  },
  {
   "cell_type": "code",
   "execution_count": 5,
   "metadata": {},
   "outputs": [
    {
     "data": {
      "text/html": [
       "<div>\n",
       "<style>\n",
       "    .dataframe thead tr:only-child th {\n",
       "        text-align: right;\n",
       "    }\n",
       "\n",
       "    .dataframe thead th {\n",
       "        text-align: left;\n",
       "    }\n",
       "\n",
       "    .dataframe tbody tr th {\n",
       "        vertical-align: top;\n",
       "    }\n",
       "</style>\n",
       "<table border=\"1\" class=\"dataframe\">\n",
       "  <thead>\n",
       "    <tr style=\"text-align: right;\">\n",
       "      <th></th>\n",
       "      <th>PostalCode</th>\n",
       "      <th>Borough</th>\n",
       "      <th>Neighborhood</th>\n",
       "      <th>Latitude</th>\n",
       "      <th>Longitude</th>\n",
       "    </tr>\n",
       "  </thead>\n",
       "  <tbody>\n",
       "    <tr>\n",
       "      <th>0</th>\n",
       "      <td>K1Y</td>\n",
       "      <td>Ottawa West</td>\n",
       "      <td>Island Park, Hintonburg, Mechanicsville, Champ...</td>\n",
       "      <td>45.402</td>\n",
       "      <td>-75.733</td>\n",
       "    </tr>\n",
       "    <tr>\n",
       "      <th>1</th>\n",
       "      <td>K1S</td>\n",
       "      <td>Ottawa</td>\n",
       "      <td>The Glebe, Ottawa South, Ottawa East</td>\n",
       "      <td>45.399</td>\n",
       "      <td>-75.687</td>\n",
       "    </tr>\n",
       "    <tr>\n",
       "      <th>2</th>\n",
       "      <td>K1K</td>\n",
       "      <td>Ottawa</td>\n",
       "      <td>Overbrook, Forbes, Manor Park, Viscount Alexan...</td>\n",
       "      <td>45.445</td>\n",
       "      <td>-75.643</td>\n",
       "    </tr>\n",
       "    <tr>\n",
       "      <th>3</th>\n",
       "      <td>K1L</td>\n",
       "      <td>Ottawa</td>\n",
       "      <td>Vanier, McKay Lake</td>\n",
       "      <td>45.440</td>\n",
       "      <td>-75.663</td>\n",
       "    </tr>\n",
       "    <tr>\n",
       "      <th>4</th>\n",
       "      <td>K1Z</td>\n",
       "      <td>Ottawa</td>\n",
       "      <td>Westboro, Carlington</td>\n",
       "      <td>45.387</td>\n",
       "      <td>-75.740</td>\n",
       "    </tr>\n",
       "    <tr>\n",
       "      <th>5</th>\n",
       "      <td>K1G</td>\n",
       "      <td>Ottawa</td>\n",
       "      <td>Riverview, Hawthorne, Canterbury, Hunt Club Park</td>\n",
       "      <td>45.355</td>\n",
       "      <td>-75.577</td>\n",
       "    </tr>\n",
       "    <tr>\n",
       "      <th>6</th>\n",
       "      <td>K1H</td>\n",
       "      <td>Ottawa</td>\n",
       "      <td>Alta Vista,  Billings Bridge</td>\n",
       "      <td>45.388</td>\n",
       "      <td>-75.659</td>\n",
       "    </tr>\n",
       "    <tr>\n",
       "      <th>7</th>\n",
       "      <td>K1M</td>\n",
       "      <td>Ottawa</td>\n",
       "      <td>Rockcliffe Park, New Edinburgh</td>\n",
       "      <td>45.449</td>\n",
       "      <td>-75.682</td>\n",
       "    </tr>\n",
       "    <tr>\n",
       "      <th>8</th>\n",
       "      <td>K1P</td>\n",
       "      <td>Ottawa</td>\n",
       "      <td>Parliament Hill</td>\n",
       "      <td>45.422</td>\n",
       "      <td>-75.703</td>\n",
       "    </tr>\n",
       "    <tr>\n",
       "      <th>9</th>\n",
       "      <td>K1R</td>\n",
       "      <td>Ottawa</td>\n",
       "      <td>West Downtown area</td>\n",
       "      <td>45.412</td>\n",
       "      <td>-75.711</td>\n",
       "    </tr>\n",
       "    <tr>\n",
       "      <th>10</th>\n",
       "      <td>K2A</td>\n",
       "      <td>Ottawa</td>\n",
       "      <td>Highland Park, Carlingwood, McKellar Park, Gla...</td>\n",
       "      <td>45.380</td>\n",
       "      <td>-75.764</td>\n",
       "    </tr>\n",
       "    <tr>\n",
       "      <th>11</th>\n",
       "      <td>K2B</td>\n",
       "      <td>Ottawa</td>\n",
       "      <td>Britannia, Whitehaven, Bayshore, Pinecrest</td>\n",
       "      <td>45.365</td>\n",
       "      <td>-75.793</td>\n",
       "    </tr>\n",
       "    <tr>\n",
       "      <th>12</th>\n",
       "      <td>K2P</td>\n",
       "      <td>Ottawa</td>\n",
       "      <td>Centre Town</td>\n",
       "      <td>45.417</td>\n",
       "      <td>-75.690</td>\n",
       "    </tr>\n",
       "    <tr>\n",
       "      <th>13</th>\n",
       "      <td>K1N</td>\n",
       "      <td>Ottawa</td>\n",
       "      <td>Lower Town, Byward Market, Sandy Hill, Univers...</td>\n",
       "      <td>45.429</td>\n",
       "      <td>-75.684</td>\n",
       "    </tr>\n",
       "    <tr>\n",
       "      <th>14</th>\n",
       "      <td>K2C</td>\n",
       "      <td>Ottawa</td>\n",
       "      <td>Queensway, Copeland Park, Central Park, Bel Ai...</td>\n",
       "      <td>45.368</td>\n",
       "      <td>-75.738</td>\n",
       "    </tr>\n",
       "    <tr>\n",
       "      <th>15</th>\n",
       "      <td>K1V</td>\n",
       "      <td>Ottawa</td>\n",
       "      <td>Heron Gate, Heron Park, Riverside Park, Hunt C...</td>\n",
       "      <td>45.328</td>\n",
       "      <td>-75.672</td>\n",
       "    </tr>\n",
       "    <tr>\n",
       "      <th>16</th>\n",
       "      <td>K1A</td>\n",
       "      <td>Ottawa</td>\n",
       "      <td>Government of Canada Ottawa and Gatineau offices</td>\n",
       "      <td>45.421</td>\n",
       "      <td>-75.702</td>\n",
       "    </tr>\n",
       "    <tr>\n",
       "      <th>17</th>\n",
       "      <td>K2E</td>\n",
       "      <td>Nepean</td>\n",
       "      <td>Fisher Heights, Parkwood Hills, Borden Farm, P...</td>\n",
       "      <td>45.344</td>\n",
       "      <td>-75.716</td>\n",
       "    </tr>\n",
       "    <tr>\n",
       "      <th>18</th>\n",
       "      <td>K2J</td>\n",
       "      <td>Nepean</td>\n",
       "      <td>Barrhaven</td>\n",
       "      <td>45.269</td>\n",
       "      <td>-75.752</td>\n",
       "    </tr>\n",
       "    <tr>\n",
       "      <th>19</th>\n",
       "      <td>K2G</td>\n",
       "      <td>Nepean</td>\n",
       "      <td>Centrepointe, Meadowlands, City View, Craig He...</td>\n",
       "      <td>45.321</td>\n",
       "      <td>-75.739</td>\n",
       "    </tr>\n",
       "    <tr>\n",
       "      <th>20</th>\n",
       "      <td>K2H</td>\n",
       "      <td>Nepean</td>\n",
       "      <td>Bells Corners, Arlington Woods, Redwood, Quali...</td>\n",
       "      <td>45.343</td>\n",
       "      <td>-75.826</td>\n",
       "    </tr>\n",
       "    <tr>\n",
       "      <th>21</th>\n",
       "      <td>K2R</td>\n",
       "      <td>Nepean</td>\n",
       "      <td>Fallowfield Village,  Cedarhill Estates, Orcha...</td>\n",
       "      <td>45.290</td>\n",
       "      <td>-75.813</td>\n",
       "    </tr>\n",
       "    <tr>\n",
       "      <th>22</th>\n",
       "      <td>K2M</td>\n",
       "      <td>Kanata</td>\n",
       "      <td>Bridlewood</td>\n",
       "      <td>45.286</td>\n",
       "      <td>-75.856</td>\n",
       "    </tr>\n",
       "    <tr>\n",
       "      <th>23</th>\n",
       "      <td>K2T</td>\n",
       "      <td>Kanata</td>\n",
       "      <td>Marchwood</td>\n",
       "      <td>45.317</td>\n",
       "      <td>-75.937</td>\n",
       "    </tr>\n",
       "    <tr>\n",
       "      <th>24</th>\n",
       "      <td>K2K</td>\n",
       "      <td>Kanata</td>\n",
       "      <td>Beaverbrook, South March</td>\n",
       "      <td>45.370</td>\n",
       "      <td>-75.920</td>\n",
       "    </tr>\n",
       "    <tr>\n",
       "      <th>25</th>\n",
       "      <td>K2L</td>\n",
       "      <td>Kanata</td>\n",
       "      <td>Katimavik-Hazeldean, Glen Cairn</td>\n",
       "      <td>45.300</td>\n",
       "      <td>-75.924</td>\n",
       "    </tr>\n",
       "    <tr>\n",
       "      <th>26</th>\n",
       "      <td>K2V</td>\n",
       "      <td>Kanata</td>\n",
       "      <td>Terry Fox, Palladium</td>\n",
       "      <td>45.285</td>\n",
       "      <td>-75.893</td>\n",
       "    </tr>\n",
       "    <tr>\n",
       "      <th>27</th>\n",
       "      <td>K2W</td>\n",
       "      <td>Kanata</td>\n",
       "      <td>North March</td>\n",
       "      <td>45.370</td>\n",
       "      <td>-75.989</td>\n",
       "    </tr>\n",
       "  </tbody>\n",
       "</table>\n",
       "</div>"
      ],
      "text/plain": [
       "   PostalCode      Borough                                       Neighborhood  \\\n",
       "0         K1Y  Ottawa West  Island Park, Hintonburg, Mechanicsville, Champ...   \n",
       "1         K1S       Ottawa               The Glebe, Ottawa South, Ottawa East   \n",
       "2         K1K       Ottawa  Overbrook, Forbes, Manor Park, Viscount Alexan...   \n",
       "3         K1L       Ottawa                                 Vanier, McKay Lake   \n",
       "4         K1Z       Ottawa                               Westboro, Carlington   \n",
       "5         K1G       Ottawa   Riverview, Hawthorne, Canterbury, Hunt Club Park   \n",
       "6         K1H       Ottawa                       Alta Vista,  Billings Bridge   \n",
       "7         K1M       Ottawa                     Rockcliffe Park, New Edinburgh   \n",
       "8         K1P       Ottawa                                    Parliament Hill   \n",
       "9         K1R       Ottawa                                 West Downtown area   \n",
       "10        K2A       Ottawa  Highland Park, Carlingwood, McKellar Park, Gla...   \n",
       "11        K2B       Ottawa         Britannia, Whitehaven, Bayshore, Pinecrest   \n",
       "12        K2P       Ottawa                                        Centre Town   \n",
       "13        K1N       Ottawa  Lower Town, Byward Market, Sandy Hill, Univers...   \n",
       "14        K2C       Ottawa  Queensway, Copeland Park, Central Park, Bel Ai...   \n",
       "15        K1V       Ottawa  Heron Gate, Heron Park, Riverside Park, Hunt C...   \n",
       "16        K1A       Ottawa   Government of Canada Ottawa and Gatineau offices   \n",
       "17        K2E       Nepean  Fisher Heights, Parkwood Hills, Borden Farm, P...   \n",
       "18        K2J       Nepean                                          Barrhaven   \n",
       "19        K2G       Nepean  Centrepointe, Meadowlands, City View, Craig He...   \n",
       "20        K2H       Nepean  Bells Corners, Arlington Woods, Redwood, Quali...   \n",
       "21        K2R       Nepean  Fallowfield Village,  Cedarhill Estates, Orcha...   \n",
       "22        K2M       Kanata                                         Bridlewood   \n",
       "23        K2T       Kanata                                          Marchwood   \n",
       "24        K2K       Kanata                           Beaverbrook, South March   \n",
       "25        K2L       Kanata                    Katimavik-Hazeldean, Glen Cairn   \n",
       "26        K2V       Kanata                               Terry Fox, Palladium   \n",
       "27        K2W       Kanata                                        North March   \n",
       "\n",
       "    Latitude  Longitude  \n",
       "0     45.402    -75.733  \n",
       "1     45.399    -75.687  \n",
       "2     45.445    -75.643  \n",
       "3     45.440    -75.663  \n",
       "4     45.387    -75.740  \n",
       "5     45.355    -75.577  \n",
       "6     45.388    -75.659  \n",
       "7     45.449    -75.682  \n",
       "8     45.422    -75.703  \n",
       "9     45.412    -75.711  \n",
       "10    45.380    -75.764  \n",
       "11    45.365    -75.793  \n",
       "12    45.417    -75.690  \n",
       "13    45.429    -75.684  \n",
       "14    45.368    -75.738  \n",
       "15    45.328    -75.672  \n",
       "16    45.421    -75.702  \n",
       "17    45.344    -75.716  \n",
       "18    45.269    -75.752  \n",
       "19    45.321    -75.739  \n",
       "20    45.343    -75.826  \n",
       "21    45.290    -75.813  \n",
       "22    45.286    -75.856  \n",
       "23    45.317    -75.937  \n",
       "24    45.370    -75.920  \n",
       "25    45.300    -75.924  \n",
       "26    45.285    -75.893  \n",
       "27    45.370    -75.989  "
      ]
     },
     "execution_count": 5,
     "metadata": {},
     "output_type": "execute_result"
    }
   ],
   "source": [
    "# Change the column name of the geo-spatial data Postal Code to PostalCode to align with Toronto postal codes\n",
    "df_coordinates.rename(columns={'Postal Code':'PostalCode'}, inplace=True)\n",
    "\n",
    "#Set indexes as PostalCode to be able to merge two data frames instantly based on indexes\n",
    "df_coordinates.set_index('PostalCode')\n",
    "\n",
    "df_ottawa.set_index('PostalCode')\n",
    "\n",
    "# Merging two dataframe together\n",
    "df_combined = pd.merge(df_ottawa, df_coordinates)\n",
    "\n",
    "# Change the column name of the geo-spatial data Postal Code to PostalCode to align with Toronto postal codes\n",
    "df_combined.rename(columns={'Neighbourhood':'Neighborhood'}, inplace=True)\n",
    "\n",
    "df_combined"
   ]
  },
  {
   "cell_type": "markdown",
   "metadata": {},
   "source": [
    "#### Select only Barrhaven Neighborhood"
   ]
  },
  {
   "cell_type": "code",
   "execution_count": 6,
   "metadata": {},
   "outputs": [
    {
     "data": {
      "text/html": [
       "<div>\n",
       "<style>\n",
       "    .dataframe thead tr:only-child th {\n",
       "        text-align: right;\n",
       "    }\n",
       "\n",
       "    .dataframe thead th {\n",
       "        text-align: left;\n",
       "    }\n",
       "\n",
       "    .dataframe tbody tr th {\n",
       "        vertical-align: top;\n",
       "    }\n",
       "</style>\n",
       "<table border=\"1\" class=\"dataframe\">\n",
       "  <thead>\n",
       "    <tr style=\"text-align: right;\">\n",
       "      <th></th>\n",
       "      <th>PostalCode</th>\n",
       "      <th>Borough</th>\n",
       "      <th>Neighborhood</th>\n",
       "      <th>Latitude</th>\n",
       "      <th>Longitude</th>\n",
       "    </tr>\n",
       "  </thead>\n",
       "  <tbody>\n",
       "    <tr>\n",
       "      <th>0</th>\n",
       "      <td>K2J</td>\n",
       "      <td>Nepean</td>\n",
       "      <td>Barrhaven</td>\n",
       "      <td>45.269</td>\n",
       "      <td>-75.752</td>\n",
       "    </tr>\n",
       "  </tbody>\n",
       "</table>\n",
       "</div>"
      ],
      "text/plain": [
       "  PostalCode Borough Neighborhood  Latitude  Longitude\n",
       "0        K2J  Nepean    Barrhaven    45.269    -75.752"
      ]
     },
     "execution_count": 6,
     "metadata": {},
     "output_type": "execute_result"
    }
   ],
   "source": [
    "barrhaven_data = df_combined[df_combined['Neighborhood'].isin(['Barrhaven'])].reset_index(drop=True)\n",
    "barrhaven_data.head()"
   ]
  },
  {
   "cell_type": "markdown",
   "metadata": {},
   "source": [
    "## 3. Explore Neighborhoods in Barrhaven"
   ]
  },
  {
   "cell_type": "code",
   "execution_count": 7,
   "metadata": {},
   "outputs": [
    {
     "name": "stdout",
     "output_type": "stream",
     "text": [
      "The geograpical coordinate of Barrhaven are 45.2652066, -75.7659503343141.\n"
     ]
    }
   ],
   "source": [
    "address = 'Barrhaven, ON'\n",
    "\n",
    "geolocator = Nominatim(user_agent=\"ny_explorer\")\n",
    "location = geolocator.geocode(address)\n",
    "latitude = location.latitude\n",
    "longitude = location.longitude\n",
    "print('The geograpical coordinate of Barrhaven are {}, {}.'.format(latitude, longitude))"
   ]
  },
  {
   "cell_type": "code",
   "execution_count": 29,
   "metadata": {},
   "outputs": [
    {
     "data": {
      "text/html": [
       "<div style=\"width:100%;\"><div style=\"position:relative;width:100%;height:0;padding-bottom:60%;\"><iframe src=\"data:text/html;charset=utf-8;base64,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\" style=\"position:absolute;width:100%;height:100%;left:0;top:0;border:none !important;\" allowfullscreen webkitallowfullscreen mozallowfullscreen></iframe></div></div>"
      ],
      "text/plain": [
       "<folium.folium.Map at 0x2820db4af60>"
      ]
     },
     "execution_count": 29,
     "metadata": {},
     "output_type": "execute_result"
    }
   ],
   "source": [
    "# create map of Barrhaven using latitude and longitude values\n",
    "map_barrhaven = folium.Map(location=[latitude, longitude], zoom_start=11)\n",
    "\n",
    "# add markers to map\n",
    "for lat, lng, label in zip(barrhaven_data['Latitude'], barrhaven_data['Longitude'], barrhaven_data['Neighborhood']):\n",
    "    label = folium.Popup(label, parse_html=True)\n",
    "    folium.CircleMarker(\n",
    "        [lat, lng],\n",
    "        radius=5,\n",
    "        popup=label,\n",
    "        color='blue',\n",
    "        fill=True,\n",
    "        fill_color='#3186cc',\n",
    "        fill_opacity=0.7,\n",
    "        parse_html=False).add_to(map_barrhaven)  \n",
    "    \n",
    "map_barrhaven\n"
   ]
  },
  {
   "cell_type": "markdown",
   "metadata": {},
   "source": [
    "#### Define Foursquare Credentials and Version"
   ]
  },
  {
   "cell_type": "code",
   "execution_count": 9,
   "metadata": {
    "collapsed": true
   },
   "outputs": [],
   "source": [
    "CLIENT_ID = 'GRRTI0NWPGAM5JZFZGE0G31PKC2D5U42WKPSVQPBX225SF1X' # your Foursquare ID\n",
    "CLIENT_SECRET = 'M4SFZQDMBJXEU3OCX3M0HRCOZSLBHFK2HDTQPWEKJX0NJDUE' # your Foursquare Secret\n",
    "VERSION = '20180605' # Foursquare API version"
   ]
  },
  {
   "cell_type": "markdown",
   "metadata": {},
   "source": [
    "##### Get the top 200 venues that are in Barrhaven within a radius of 8000 meters"
   ]
  },
  {
   "cell_type": "code",
   "execution_count": 30,
   "metadata": {
    "collapsed": true
   },
   "outputs": [],
   "source": [
    "LIMIT = 200\n",
    "\n",
    "#Function to get data from foursquare\n",
    "def getNearbyVenues(names, latitudes, longitudes, radius=8000,categoryIds = '' ):\n",
    "    \n",
    "    venues_list=[]\n",
    "    for name, lat, lng in zip(names, latitudes, longitudes):\n",
    "        print(name)\n",
    "            \n",
    "        # create the API request URL\n",
    "        url = 'https://api.foursquare.com/v2/venues/explore?&client_id={}&client_secret={}&v={}&ll={},{}&radius={}&limit={}'.format(\n",
    "            CLIENT_ID, \n",
    "            CLIENT_SECRET, \n",
    "            VERSION, \n",
    "            lat, \n",
    "            lng, \n",
    "            radius, \n",
    "            LIMIT)\n",
    "        \n",
    "        if (categoryIds != ''):\n",
    "                url = url + '&categoryId={}'\n",
    "                url = url.format(categoryIds)\n",
    "            \n",
    "        # make the GET request\n",
    "        results = requests.get(url).json()[\"response\"]['groups'][0]['items']\n",
    "        \n",
    "        # return only relevant information for each nearby venue\n",
    "        venues_list.append([(\n",
    "            name, \n",
    "            lat, \n",
    "            lng, \n",
    "            v['venue']['name'], \n",
    "            v['venue']['location']['lat'], \n",
    "            v['venue']['location']['lng'],  \n",
    "            v['venue']['categories'][0]['name']) for v in results])\n",
    "\n",
    "    nearby_venues = pd.DataFrame([item for venue_list in venues_list for item in venue_list])\n",
    "    nearby_venues.columns = ['Neighborhood', \n",
    "                  'Neighborhood Latitude', \n",
    "                  'Neighborhood Longitude', \n",
    "                  'Venue', \n",
    "                  'Venue Latitude', \n",
    "                  'Venue Longitude', \n",
    "                  'Venue Category']\n",
    "    \n",
    "    return(nearby_venues)"
   ]
  },
  {
   "cell_type": "code",
   "execution_count": 31,
   "metadata": {},
   "outputs": [
    {
     "name": "stdout",
     "output_type": "stream",
     "text": [
      "Barrhaven\n"
     ]
    }
   ],
   "source": [
    "coffee_shop_categoryId = '4bf58dd8d48988d1e0931735' # https://developer.foursquare.com/docs/resources/categories\n",
    "\n",
    "barrhaven_venues = getNearbyVenues(names=barrhaven_data['Neighborhood'],\n",
    "                                   latitudes=barrhaven_data['Latitude'],\n",
    "                                   longitudes=barrhaven_data['Longitude'],\n",
    "                                 categoryIds=coffee_shop_categoryId\n",
    "                                  )"
   ]
  },
  {
   "cell_type": "markdown",
   "metadata": {},
   "source": [
    "##### Check the size of the resulting dataframe"
   ]
  },
  {
   "cell_type": "code",
   "execution_count": 32,
   "metadata": {},
   "outputs": [
    {
     "name": "stdout",
     "output_type": "stream",
     "text": [
      "(20, 7)\n"
     ]
    },
    {
     "data": {
      "text/html": [
       "<div>\n",
       "<style>\n",
       "    .dataframe thead tr:only-child th {\n",
       "        text-align: right;\n",
       "    }\n",
       "\n",
       "    .dataframe thead th {\n",
       "        text-align: left;\n",
       "    }\n",
       "\n",
       "    .dataframe tbody tr th {\n",
       "        vertical-align: top;\n",
       "    }\n",
       "</style>\n",
       "<table border=\"1\" class=\"dataframe\">\n",
       "  <thead>\n",
       "    <tr style=\"text-align: right;\">\n",
       "      <th></th>\n",
       "      <th>Neighborhood</th>\n",
       "      <th>Neighborhood Latitude</th>\n",
       "      <th>Neighborhood Longitude</th>\n",
       "      <th>Venue</th>\n",
       "      <th>Venue Latitude</th>\n",
       "      <th>Venue Longitude</th>\n",
       "      <th>Venue Category</th>\n",
       "    </tr>\n",
       "  </thead>\n",
       "  <tbody>\n",
       "    <tr>\n",
       "      <th>0</th>\n",
       "      <td>Barrhaven</td>\n",
       "      <td>45.269</td>\n",
       "      <td>-75.752</td>\n",
       "      <td>Café Cristal</td>\n",
       "      <td>45.264895</td>\n",
       "      <td>-75.777534</td>\n",
       "      <td>Café</td>\n",
       "    </tr>\n",
       "    <tr>\n",
       "      <th>1</th>\n",
       "      <td>Barrhaven</td>\n",
       "      <td>45.269</td>\n",
       "      <td>-75.752</td>\n",
       "      <td>Second Cup</td>\n",
       "      <td>45.269219</td>\n",
       "      <td>-75.746093</td>\n",
       "      <td>Coffee Shop</td>\n",
       "    </tr>\n",
       "    <tr>\n",
       "      <th>2</th>\n",
       "      <td>Barrhaven</td>\n",
       "      <td>45.269</td>\n",
       "      <td>-75.752</td>\n",
       "      <td>Starbucks</td>\n",
       "      <td>45.274293</td>\n",
       "      <td>-75.748052</td>\n",
       "      <td>Coffee Shop</td>\n",
       "    </tr>\n",
       "    <tr>\n",
       "      <th>3</th>\n",
       "      <td>Barrhaven</td>\n",
       "      <td>45.269</td>\n",
       "      <td>-75.752</td>\n",
       "      <td>Starbucks</td>\n",
       "      <td>45.269775</td>\n",
       "      <td>-75.739897</td>\n",
       "      <td>Coffee Shop</td>\n",
       "    </tr>\n",
       "    <tr>\n",
       "      <th>4</th>\n",
       "      <td>Barrhaven</td>\n",
       "      <td>45.269</td>\n",
       "      <td>-75.752</td>\n",
       "      <td>Starbucks</td>\n",
       "      <td>45.275007</td>\n",
       "      <td>-75.719048</td>\n",
       "      <td>Coffee Shop</td>\n",
       "    </tr>\n",
       "    <tr>\n",
       "      <th>5</th>\n",
       "      <td>Barrhaven</td>\n",
       "      <td>45.269</td>\n",
       "      <td>-75.752</td>\n",
       "      <td>Tim Hortons</td>\n",
       "      <td>45.274739</td>\n",
       "      <td>-75.738416</td>\n",
       "      <td>Coffee Shop</td>\n",
       "    </tr>\n",
       "    <tr>\n",
       "      <th>6</th>\n",
       "      <td>Barrhaven</td>\n",
       "      <td>45.269</td>\n",
       "      <td>-75.752</td>\n",
       "      <td>Tim Hortons</td>\n",
       "      <td>45.270406</td>\n",
       "      <td>-75.781876</td>\n",
       "      <td>Coffee Shop</td>\n",
       "    </tr>\n",
       "    <tr>\n",
       "      <th>7</th>\n",
       "      <td>Barrhaven</td>\n",
       "      <td>45.269</td>\n",
       "      <td>-75.752</td>\n",
       "      <td>Tim Hortons</td>\n",
       "      <td>45.284821</td>\n",
       "      <td>-75.722564</td>\n",
       "      <td>Coffee Shop</td>\n",
       "    </tr>\n",
       "    <tr>\n",
       "      <th>8</th>\n",
       "      <td>Barrhaven</td>\n",
       "      <td>45.269</td>\n",
       "      <td>-75.752</td>\n",
       "      <td>Tim Hortons</td>\n",
       "      <td>45.270906</td>\n",
       "      <td>-75.744291</td>\n",
       "      <td>Coffee Shop</td>\n",
       "    </tr>\n",
       "    <tr>\n",
       "      <th>9</th>\n",
       "      <td>Barrhaven</td>\n",
       "      <td>45.269</td>\n",
       "      <td>-75.752</td>\n",
       "      <td>Tim Hortons</td>\n",
       "      <td>45.297531</td>\n",
       "      <td>-75.732450</td>\n",
       "      <td>Coffee Shop</td>\n",
       "    </tr>\n",
       "    <tr>\n",
       "      <th>10</th>\n",
       "      <td>Barrhaven</td>\n",
       "      <td>45.269</td>\n",
       "      <td>-75.752</td>\n",
       "      <td>Tim Hortons</td>\n",
       "      <td>45.234567</td>\n",
       "      <td>-75.676451</td>\n",
       "      <td>Coffee Shop</td>\n",
       "    </tr>\n",
       "    <tr>\n",
       "      <th>11</th>\n",
       "      <td>Barrhaven</td>\n",
       "      <td>45.269</td>\n",
       "      <td>-75.752</td>\n",
       "      <td>Tim Hortons</td>\n",
       "      <td>45.327369</td>\n",
       "      <td>-75.701527</td>\n",
       "      <td>Coffee Shop</td>\n",
       "    </tr>\n",
       "    <tr>\n",
       "      <th>12</th>\n",
       "      <td>Barrhaven</td>\n",
       "      <td>45.269</td>\n",
       "      <td>-75.752</td>\n",
       "      <td>Tim Hortons</td>\n",
       "      <td>45.325499</td>\n",
       "      <td>-75.779515</td>\n",
       "      <td>Coffee Shop</td>\n",
       "    </tr>\n",
       "    <tr>\n",
       "      <th>13</th>\n",
       "      <td>Barrhaven</td>\n",
       "      <td>45.269</td>\n",
       "      <td>-75.752</td>\n",
       "      <td>Starbucks</td>\n",
       "      <td>45.269880</td>\n",
       "      <td>-75.739750</td>\n",
       "      <td>Coffee Shop</td>\n",
       "    </tr>\n",
       "    <tr>\n",
       "      <th>14</th>\n",
       "      <td>Barrhaven</td>\n",
       "      <td>45.269</td>\n",
       "      <td>-75.752</td>\n",
       "      <td>Two Monkeys Coffee &amp; Tea House</td>\n",
       "      <td>45.260366</td>\n",
       "      <td>-75.768002</td>\n",
       "      <td>Coffee Shop</td>\n",
       "    </tr>\n",
       "    <tr>\n",
       "      <th>15</th>\n",
       "      <td>Barrhaven</td>\n",
       "      <td>45.269</td>\n",
       "      <td>-75.752</td>\n",
       "      <td>Tim Hortons</td>\n",
       "      <td>45.329441</td>\n",
       "      <td>-75.721791</td>\n",
       "      <td>Coffee Shop</td>\n",
       "    </tr>\n",
       "    <tr>\n",
       "      <th>16</th>\n",
       "      <td>Barrhaven</td>\n",
       "      <td>45.269</td>\n",
       "      <td>-75.752</td>\n",
       "      <td>Starbucks</td>\n",
       "      <td>45.275072</td>\n",
       "      <td>-75.718880</td>\n",
       "      <td>Coffee Shop</td>\n",
       "    </tr>\n",
       "    <tr>\n",
       "      <th>17</th>\n",
       "      <td>Barrhaven</td>\n",
       "      <td>45.269</td>\n",
       "      <td>-75.752</td>\n",
       "      <td>Tim Hortons</td>\n",
       "      <td>45.335603</td>\n",
       "      <td>-75.723880</td>\n",
       "      <td>Coffee Shop</td>\n",
       "    </tr>\n",
       "    <tr>\n",
       "      <th>18</th>\n",
       "      <td>Barrhaven</td>\n",
       "      <td>45.269</td>\n",
       "      <td>-75.752</td>\n",
       "      <td>Tim Hortons</td>\n",
       "      <td>45.335654</td>\n",
       "      <td>-75.721080</td>\n",
       "      <td>Coffee Shop</td>\n",
       "    </tr>\n",
       "    <tr>\n",
       "      <th>19</th>\n",
       "      <td>Barrhaven</td>\n",
       "      <td>45.269</td>\n",
       "      <td>-75.752</td>\n",
       "      <td>Tim Hortons</td>\n",
       "      <td>45.334894</td>\n",
       "      <td>-75.751604</td>\n",
       "      <td>Coffee Shop</td>\n",
       "    </tr>\n",
       "  </tbody>\n",
       "</table>\n",
       "</div>"
      ],
      "text/plain": [
       "   Neighborhood  Neighborhood Latitude  Neighborhood Longitude  \\\n",
       "0     Barrhaven                 45.269                 -75.752   \n",
       "1     Barrhaven                 45.269                 -75.752   \n",
       "2     Barrhaven                 45.269                 -75.752   \n",
       "3     Barrhaven                 45.269                 -75.752   \n",
       "4     Barrhaven                 45.269                 -75.752   \n",
       "5     Barrhaven                 45.269                 -75.752   \n",
       "6     Barrhaven                 45.269                 -75.752   \n",
       "7     Barrhaven                 45.269                 -75.752   \n",
       "8     Barrhaven                 45.269                 -75.752   \n",
       "9     Barrhaven                 45.269                 -75.752   \n",
       "10    Barrhaven                 45.269                 -75.752   \n",
       "11    Barrhaven                 45.269                 -75.752   \n",
       "12    Barrhaven                 45.269                 -75.752   \n",
       "13    Barrhaven                 45.269                 -75.752   \n",
       "14    Barrhaven                 45.269                 -75.752   \n",
       "15    Barrhaven                 45.269                 -75.752   \n",
       "16    Barrhaven                 45.269                 -75.752   \n",
       "17    Barrhaven                 45.269                 -75.752   \n",
       "18    Barrhaven                 45.269                 -75.752   \n",
       "19    Barrhaven                 45.269                 -75.752   \n",
       "\n",
       "                             Venue  Venue Latitude  Venue Longitude  \\\n",
       "0                     Café Cristal       45.264895       -75.777534   \n",
       "1                       Second Cup       45.269219       -75.746093   \n",
       "2                        Starbucks       45.274293       -75.748052   \n",
       "3                        Starbucks       45.269775       -75.739897   \n",
       "4                        Starbucks       45.275007       -75.719048   \n",
       "5                      Tim Hortons       45.274739       -75.738416   \n",
       "6                      Tim Hortons       45.270406       -75.781876   \n",
       "7                      Tim Hortons       45.284821       -75.722564   \n",
       "8                      Tim Hortons       45.270906       -75.744291   \n",
       "9                      Tim Hortons       45.297531       -75.732450   \n",
       "10                     Tim Hortons       45.234567       -75.676451   \n",
       "11                     Tim Hortons       45.327369       -75.701527   \n",
       "12                     Tim Hortons       45.325499       -75.779515   \n",
       "13                       Starbucks       45.269880       -75.739750   \n",
       "14  Two Monkeys Coffee & Tea House       45.260366       -75.768002   \n",
       "15                     Tim Hortons       45.329441       -75.721791   \n",
       "16                       Starbucks       45.275072       -75.718880   \n",
       "17                     Tim Hortons       45.335603       -75.723880   \n",
       "18                     Tim Hortons       45.335654       -75.721080   \n",
       "19                     Tim Hortons       45.334894       -75.751604   \n",
       "\n",
       "   Venue Category  \n",
       "0            Café  \n",
       "1     Coffee Shop  \n",
       "2     Coffee Shop  \n",
       "3     Coffee Shop  \n",
       "4     Coffee Shop  \n",
       "5     Coffee Shop  \n",
       "6     Coffee Shop  \n",
       "7     Coffee Shop  \n",
       "8     Coffee Shop  \n",
       "9     Coffee Shop  \n",
       "10    Coffee Shop  \n",
       "11    Coffee Shop  \n",
       "12    Coffee Shop  \n",
       "13    Coffee Shop  \n",
       "14    Coffee Shop  \n",
       "15    Coffee Shop  \n",
       "16    Coffee Shop  \n",
       "17    Coffee Shop  \n",
       "18    Coffee Shop  \n",
       "19    Coffee Shop  "
      ]
     },
     "execution_count": 32,
     "metadata": {},
     "output_type": "execute_result"
    }
   ],
   "source": [
    "# Resulting dataframe size\n",
    "print(barrhaven_venues.shape)\n",
    "barrhaven_venues"
   ]
  },
  {
   "cell_type": "code",
   "execution_count": 33,
   "metadata": {
    "collapsed": true
   },
   "outputs": [],
   "source": [
    "def addToMap(df, color, existingMap):\n",
    "    for lat, lng, local, venue, venueCat in zip(df['Venue Latitude'], df['Venue Longitude'], df['Neighborhood'], df['Venue'], df['Venue Category']):\n",
    "        label = '{} ({}) - {}'.format(venue, venueCat, local)\n",
    "        label = folium.Popup(label, parse_html=True)\n",
    "        folium.CircleMarker(\n",
    "            [lat, lng],\n",
    "            radius=5,\n",
    "            popup=label,\n",
    "            color=color,\n",
    "            fill=True,\n",
    "            fill_color=color,\n",
    "            fill_opacity=0.7).add_to(existingMap)"
   ]
  },
  {
   "cell_type": "code",
   "execution_count": 14,
   "metadata": {},
   "outputs": [
    {
     "data": {
      "text/html": [
       "<div style=\"width:100%;\"><div style=\"position:relative;width:100%;height:0;padding-bottom:60%;\"><iframe src=\"data:text/html;charset=utf-8;base64,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\" style=\"position:absolute;width:100%;height:100%;left:0;top:0;border:none !important;\" allowfullscreen webkitallowfullscreen mozallowfullscreen></iframe></div></div>"
      ],
      "text/plain": [
       "<folium.folium.Map at 0x2820da85048>"
      ]
     },
     "execution_count": 14,
     "metadata": {},
     "output_type": "execute_result"
    }
   ],
   "source": [
    "# Show venues in map\n",
    "map_barrhaven_coffee = folium.Map(location=[latitude, longitude], zoom_start=12)\n",
    "addToMap(barrhaven_venues, 'red', map_barrhaven_coffee)\n",
    "\n",
    "map_barrhaven_coffee"
   ]
  },
  {
   "cell_type": "markdown",
   "metadata": {},
   "source": [
    "#### Check how many venues were returned for each neighborhood"
   ]
  },
  {
   "cell_type": "code",
   "execution_count": 34,
   "metadata": {},
   "outputs": [
    {
     "data": {
      "text/html": [
       "<div>\n",
       "<style>\n",
       "    .dataframe thead tr:only-child th {\n",
       "        text-align: right;\n",
       "    }\n",
       "\n",
       "    .dataframe thead th {\n",
       "        text-align: left;\n",
       "    }\n",
       "\n",
       "    .dataframe tbody tr th {\n",
       "        vertical-align: top;\n",
       "    }\n",
       "</style>\n",
       "<table border=\"1\" class=\"dataframe\">\n",
       "  <thead>\n",
       "    <tr style=\"text-align: right;\">\n",
       "      <th></th>\n",
       "      <th>Neighborhood Latitude</th>\n",
       "      <th>Neighborhood Longitude</th>\n",
       "      <th>Venue</th>\n",
       "      <th>Venue Latitude</th>\n",
       "      <th>Venue Longitude</th>\n",
       "      <th>Venue Category</th>\n",
       "    </tr>\n",
       "    <tr>\n",
       "      <th>Neighborhood</th>\n",
       "      <th></th>\n",
       "      <th></th>\n",
       "      <th></th>\n",
       "      <th></th>\n",
       "      <th></th>\n",
       "      <th></th>\n",
       "    </tr>\n",
       "  </thead>\n",
       "  <tbody>\n",
       "    <tr>\n",
       "      <th>Barrhaven</th>\n",
       "      <td>20</td>\n",
       "      <td>20</td>\n",
       "      <td>20</td>\n",
       "      <td>20</td>\n",
       "      <td>20</td>\n",
       "      <td>20</td>\n",
       "    </tr>\n",
       "  </tbody>\n",
       "</table>\n",
       "</div>"
      ],
      "text/plain": [
       "              Neighborhood Latitude  Neighborhood Longitude  Venue  \\\n",
       "Neighborhood                                                         \n",
       "Barrhaven                        20                      20     20   \n",
       "\n",
       "              Venue Latitude  Venue Longitude  Venue Category  \n",
       "Neighborhood                                                   \n",
       "Barrhaven                 20               20              20  "
      ]
     },
     "execution_count": 34,
     "metadata": {},
     "output_type": "execute_result"
    }
   ],
   "source": [
    "barrhaven_venues.groupby('Neighborhood').count()"
   ]
  },
  {
   "cell_type": "markdown",
   "metadata": {},
   "source": [
    "#### Find out how many unique categories can be curated from all the returned venues"
   ]
  },
  {
   "cell_type": "code",
   "execution_count": 35,
   "metadata": {},
   "outputs": [
    {
     "name": "stdout",
     "output_type": "stream",
     "text": [
      "There are 2 uniques categories.\n"
     ]
    }
   ],
   "source": [
    "print('There are {} uniques categories.'.format(len(barrhaven_venues['Venue Category'].unique())))"
   ]
  },
  {
   "cell_type": "markdown",
   "metadata": {},
   "source": [
    "## 4. Analyze Each Neighborhood"
   ]
  },
  {
   "cell_type": "code",
   "execution_count": 36,
   "metadata": {},
   "outputs": [
    {
     "data": {
      "text/html": [
       "<div>\n",
       "<style>\n",
       "    .dataframe thead tr:only-child th {\n",
       "        text-align: right;\n",
       "    }\n",
       "\n",
       "    .dataframe thead th {\n",
       "        text-align: left;\n",
       "    }\n",
       "\n",
       "    .dataframe tbody tr th {\n",
       "        vertical-align: top;\n",
       "    }\n",
       "</style>\n",
       "<table border=\"1\" class=\"dataframe\">\n",
       "  <thead>\n",
       "    <tr style=\"text-align: right;\">\n",
       "      <th></th>\n",
       "      <th>Neighborhood</th>\n",
       "      <th>Café</th>\n",
       "      <th>Coffee Shop</th>\n",
       "    </tr>\n",
       "  </thead>\n",
       "  <tbody>\n",
       "    <tr>\n",
       "      <th>0</th>\n",
       "      <td>Barrhaven</td>\n",
       "      <td>1</td>\n",
       "      <td>0</td>\n",
       "    </tr>\n",
       "    <tr>\n",
       "      <th>1</th>\n",
       "      <td>Barrhaven</td>\n",
       "      <td>0</td>\n",
       "      <td>1</td>\n",
       "    </tr>\n",
       "    <tr>\n",
       "      <th>2</th>\n",
       "      <td>Barrhaven</td>\n",
       "      <td>0</td>\n",
       "      <td>1</td>\n",
       "    </tr>\n",
       "    <tr>\n",
       "      <th>3</th>\n",
       "      <td>Barrhaven</td>\n",
       "      <td>0</td>\n",
       "      <td>1</td>\n",
       "    </tr>\n",
       "    <tr>\n",
       "      <th>4</th>\n",
       "      <td>Barrhaven</td>\n",
       "      <td>0</td>\n",
       "      <td>1</td>\n",
       "    </tr>\n",
       "  </tbody>\n",
       "</table>\n",
       "</div>"
      ],
      "text/plain": [
       "  Neighborhood  Café  Coffee Shop\n",
       "0    Barrhaven     1            0\n",
       "1    Barrhaven     0            1\n",
       "2    Barrhaven     0            1\n",
       "3    Barrhaven     0            1\n",
       "4    Barrhaven     0            1"
      ]
     },
     "execution_count": 36,
     "metadata": {},
     "output_type": "execute_result"
    }
   ],
   "source": [
    "# one hot encoding\n",
    "barrhaven_onehot = pd.get_dummies(barrhaven_venues[['Venue Category']], prefix=\"\", prefix_sep=\"\")\n",
    "\n",
    "# add neighborhood column back to dataframe\n",
    "barrhaven_onehot['Neighborhood'] = barrhaven_venues['Neighborhood'] \n",
    "\n",
    "# move neighborhood column to the first column\n",
    "fixed_columns = [barrhaven_onehot.columns[-1]] + list(barrhaven_onehot.columns[:-1])\n",
    "barrhaven_onehot = barrhaven_onehot[fixed_columns]\n",
    "\n",
    "barrhaven_onehot.head()"
   ]
  },
  {
   "cell_type": "code",
   "execution_count": 37,
   "metadata": {},
   "outputs": [
    {
     "data": {
      "text/html": [
       "<div>\n",
       "<style>\n",
       "    .dataframe thead tr:only-child th {\n",
       "        text-align: right;\n",
       "    }\n",
       "\n",
       "    .dataframe thead th {\n",
       "        text-align: left;\n",
       "    }\n",
       "\n",
       "    .dataframe tbody tr th {\n",
       "        vertical-align: top;\n",
       "    }\n",
       "</style>\n",
       "<table border=\"1\" class=\"dataframe\">\n",
       "  <thead>\n",
       "    <tr style=\"text-align: right;\">\n",
       "      <th></th>\n",
       "      <th>Neighborhood</th>\n",
       "      <th>Café</th>\n",
       "      <th>Coffee Shop</th>\n",
       "    </tr>\n",
       "  </thead>\n",
       "  <tbody>\n",
       "    <tr>\n",
       "      <th>0</th>\n",
       "      <td>Barrhaven</td>\n",
       "      <td>0.05</td>\n",
       "      <td>0.95</td>\n",
       "    </tr>\n",
       "  </tbody>\n",
       "</table>\n",
       "</div>"
      ],
      "text/plain": [
       "  Neighborhood  Café  Coffee Shop\n",
       "0    Barrhaven  0.05         0.95"
      ]
     },
     "execution_count": 37,
     "metadata": {},
     "output_type": "execute_result"
    }
   ],
   "source": [
    "barrhaven_grouped = barrhaven_onehot.groupby('Neighborhood').mean().reset_index()\n",
    "barrhaven_grouped"
   ]
  },
  {
   "cell_type": "markdown",
   "metadata": {},
   "source": [
    "#### Confirm the new dataframe size"
   ]
  },
  {
   "cell_type": "code",
   "execution_count": 38,
   "metadata": {},
   "outputs": [
    {
     "data": {
      "text/plain": [
       "(1, 3)"
      ]
     },
     "execution_count": 38,
     "metadata": {},
     "output_type": "execute_result"
    }
   ],
   "source": [
    "barrhaven_grouped.shape"
   ]
  },
  {
   "cell_type": "markdown",
   "metadata": {},
   "source": [
    "#### Print each neighborhood along with the top 10 most common venues"
   ]
  },
  {
   "cell_type": "code",
   "execution_count": 39,
   "metadata": {},
   "outputs": [
    {
     "name": "stdout",
     "output_type": "stream",
     "text": [
      "----Barrhaven----\n",
      "         venue  freq\n",
      "0  Coffee Shop  0.95\n",
      "1         Café  0.05\n",
      "\n",
      "\n"
     ]
    }
   ],
   "source": [
    "num_top_venues = 10\n",
    "\n",
    "for hood in barrhaven_grouped['Neighborhood']:\n",
    "    print(\"----\"+hood+\"----\")\n",
    "    temp = barrhaven_grouped[barrhaven_grouped['Neighborhood'] == hood].T.reset_index()\n",
    "    temp.columns = ['venue','freq']\n",
    "    temp = temp.iloc[1:]\n",
    "    temp['freq'] = temp['freq'].astype(float)\n",
    "    temp = temp.round({'freq': 2})\n",
    "    print(temp.sort_values('freq', ascending=False).reset_index(drop=True).head(num_top_venues))\n",
    "    print('\\n')"
   ]
  },
  {
   "cell_type": "markdown",
   "metadata": {},
   "source": [
    "#### Let's put that into a pandas dataframe"
   ]
  },
  {
   "cell_type": "markdown",
   "metadata": {},
   "source": [
    "A function to sort the venues in descending order"
   ]
  },
  {
   "cell_type": "code",
   "execution_count": 40,
   "metadata": {
    "collapsed": true
   },
   "outputs": [],
   "source": [
    "def return_most_common_venues(row, num_top_venues):\n",
    "    row_categories = row.iloc[1:]\n",
    "    row_categories_sorted = row_categories.sort_values(ascending=False)\n",
    "    \n",
    "    return row_categories_sorted.index.values[0:num_top_venues]"
   ]
  },
  {
   "cell_type": "markdown",
   "metadata": {},
   "source": [
    "Creating a new dataframe and display the top 10 venues for each neighborhood."
   ]
  },
  {
   "cell_type": "code",
   "execution_count": 41,
   "metadata": {},
   "outputs": [
    {
     "data": {
      "text/html": [
       "<div>\n",
       "<style>\n",
       "    .dataframe thead tr:only-child th {\n",
       "        text-align: right;\n",
       "    }\n",
       "\n",
       "    .dataframe thead th {\n",
       "        text-align: left;\n",
       "    }\n",
       "\n",
       "    .dataframe tbody tr th {\n",
       "        vertical-align: top;\n",
       "    }\n",
       "</style>\n",
       "<table border=\"1\" class=\"dataframe\">\n",
       "  <thead>\n",
       "    <tr style=\"text-align: right;\">\n",
       "      <th></th>\n",
       "      <th>Neighborhood</th>\n",
       "      <th>1st Most Common Venue</th>\n",
       "      <th>2nd Most Common Venue</th>\n",
       "    </tr>\n",
       "  </thead>\n",
       "  <tbody>\n",
       "    <tr>\n",
       "      <th>0</th>\n",
       "      <td>Barrhaven</td>\n",
       "      <td>Coffee Shop</td>\n",
       "      <td>Café</td>\n",
       "    </tr>\n",
       "  </tbody>\n",
       "</table>\n",
       "</div>"
      ],
      "text/plain": [
       "  Neighborhood 1st Most Common Venue 2nd Most Common Venue\n",
       "0    Barrhaven           Coffee Shop                  Café"
      ]
     },
     "execution_count": 41,
     "metadata": {},
     "output_type": "execute_result"
    }
   ],
   "source": [
    "num_top_venues = 2\n",
    "\n",
    "indicators = ['st', 'nd', 'rd']\n",
    "\n",
    "# create columns according to number of top venues\n",
    "columns = ['Neighborhood']\n",
    "for ind in np.arange(num_top_venues):\n",
    "    try:\n",
    "        columns.append('{}{} Most Common Venue'.format(ind+1, indicators[ind]))\n",
    "    except:\n",
    "        columns.append('{}th Most Common Venue'.format(ind+1))\n",
    "\n",
    "# create a new dataframe\n",
    "neighborhoods_venues_sorted = pd.DataFrame(columns=columns)\n",
    "neighborhoods_venues_sorted['Neighborhood'] = barrhaven_grouped['Neighborhood']\n",
    "\n",
    "for ind in np.arange(barrhaven_grouped.shape[0]):\n",
    "    neighborhoods_venues_sorted.iloc[ind, 1:] = return_most_common_venues(barrhaven_grouped.iloc[ind, :], num_top_venues)\n",
    "\n",
    "neighborhoods_venues_sorted.head()"
   ]
  },
  {
   "cell_type": "markdown",
   "metadata": {},
   "source": [
    "## 5. Cluster Neighborhood"
   ]
  },
  {
   "cell_type": "markdown",
   "metadata": {},
   "source": [
    "Run k-means to cluster the neighborhood into 5 clusters"
   ]
  },
  {
   "cell_type": "code",
   "execution_count": 42,
   "metadata": {},
   "outputs": [
    {
     "data": {
      "text/plain": [
       "array([0])"
      ]
     },
     "execution_count": 42,
     "metadata": {},
     "output_type": "execute_result"
    }
   ],
   "source": [
    "# set number of clusters\n",
    "kclusters = 1\n",
    "\n",
    "barrhaven_grouped_clustering = barrhaven_grouped.drop('Neighborhood', 1)\n",
    "\n",
    "# run k-means clustering\n",
    "kmeans = KMeans(n_clusters=kclusters, random_state=0).fit(barrhaven_grouped_clustering)\n",
    "\n",
    "# check cluster labels generated for each row in the dataframe\n",
    "kmeans.labels_[0:10]"
   ]
  },
  {
   "cell_type": "code",
   "execution_count": 43,
   "metadata": {},
   "outputs": [
    {
     "data": {
      "text/html": [
       "<div>\n",
       "<style>\n",
       "    .dataframe thead tr:only-child th {\n",
       "        text-align: right;\n",
       "    }\n",
       "\n",
       "    .dataframe thead th {\n",
       "        text-align: left;\n",
       "    }\n",
       "\n",
       "    .dataframe tbody tr th {\n",
       "        vertical-align: top;\n",
       "    }\n",
       "</style>\n",
       "<table border=\"1\" class=\"dataframe\">\n",
       "  <thead>\n",
       "    <tr style=\"text-align: right;\">\n",
       "      <th></th>\n",
       "      <th>PostalCode</th>\n",
       "      <th>Borough</th>\n",
       "      <th>Neighborhood</th>\n",
       "      <th>Latitude</th>\n",
       "      <th>Longitude</th>\n",
       "      <th>Cluster Labels</th>\n",
       "      <th>1st Most Common Venue</th>\n",
       "      <th>2nd Most Common Venue</th>\n",
       "    </tr>\n",
       "  </thead>\n",
       "  <tbody>\n",
       "    <tr>\n",
       "      <th>0</th>\n",
       "      <td>K2J</td>\n",
       "      <td>Nepean</td>\n",
       "      <td>Barrhaven</td>\n",
       "      <td>45.269</td>\n",
       "      <td>-75.752</td>\n",
       "      <td>0</td>\n",
       "      <td>Coffee Shop</td>\n",
       "      <td>Café</td>\n",
       "    </tr>\n",
       "  </tbody>\n",
       "</table>\n",
       "</div>"
      ],
      "text/plain": [
       "  PostalCode Borough Neighborhood  Latitude  Longitude  Cluster Labels  \\\n",
       "0        K2J  Nepean    Barrhaven    45.269    -75.752               0   \n",
       "\n",
       "  1st Most Common Venue 2nd Most Common Venue  \n",
       "0           Coffee Shop                  Café  "
      ]
     },
     "execution_count": 43,
     "metadata": {},
     "output_type": "execute_result"
    }
   ],
   "source": [
    "# add clustering labels\n",
    "neighborhoods_venues_sorted.insert(0, 'Cluster Labels', kmeans.labels_)\n",
    "\n",
    "barrhaven_merged = barrhaven_data\n",
    "\n",
    "# merge toronto_grouped with toronto_data to add latitude/longitude for each neighborhood\n",
    "barrhaven_merged = barrhaven_merged.join(neighborhoods_venues_sorted.set_index('Neighborhood'), on='Neighborhood')\n",
    "\n",
    "barrhaven_merged.head() # check the last columns!"
   ]
  },
  {
   "cell_type": "code",
   "execution_count": 44,
   "metadata": {},
   "outputs": [
    {
     "data": {
      "text/html": [
       "<div style=\"width:100%;\"><div style=\"position:relative;width:100%;height:0;padding-bottom:60%;\"><iframe src=\"data:text/html;charset=utf-8;base64,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\" style=\"position:absolute;width:100%;height:100%;left:0;top:0;border:none !important;\" allowfullscreen webkitallowfullscreen mozallowfullscreen></iframe></div></div>"
      ],
      "text/plain": [
       "<folium.folium.Map at 0x2820dc0fa20>"
      ]
     },
     "execution_count": 44,
     "metadata": {},
     "output_type": "execute_result"
    }
   ],
   "source": [
    "# create map\n",
    "map_clusters = folium.Map(location=[latitude, longitude], zoom_start=11)\n",
    "\n",
    "# set color scheme for the clusters\n",
    "x = np.arange(kclusters)\n",
    "ys = [i + x + (i*x)**2 for i in range(kclusters)]\n",
    "colors_array = cm.rainbow(np.linspace(0, 1, len(ys)))\n",
    "rainbow = [colors.rgb2hex(i) for i in colors_array]\n",
    "\n",
    "# add markers to the map\n",
    "markers_colors = []\n",
    "for lat, lon, poi, cluster in zip(barrhaven_merged['Latitude'], barrhaven_merged['Longitude'], barrhaven_merged['Neighborhood'], barrhaven_merged['Cluster Labels']):\n",
    "    label = folium.Popup(str(poi) + ' Cluster ' + str(cluster), parse_html=True)\n",
    "    folium.CircleMarker(\n",
    "        [lat, lon],\n",
    "        radius=5,\n",
    "        popup=label,\n",
    "        color=rainbow[cluster-1],\n",
    "        fill=True,\n",
    "        fill_color=rainbow[cluster-1],\n",
    "        fill_opacity=0.7).add_to(map_clusters)\n",
    "       \n",
    "map_clusters"
   ]
  },
  {
   "cell_type": "code",
   "execution_count": 45,
   "metadata": {},
   "outputs": [
    {
     "data": {
      "text/html": [
       "<div>\n",
       "<style>\n",
       "    .dataframe thead tr:only-child th {\n",
       "        text-align: right;\n",
       "    }\n",
       "\n",
       "    .dataframe thead th {\n",
       "        text-align: left;\n",
       "    }\n",
       "\n",
       "    .dataframe tbody tr th {\n",
       "        vertical-align: top;\n",
       "    }\n",
       "</style>\n",
       "<table border=\"1\" class=\"dataframe\">\n",
       "  <thead>\n",
       "    <tr style=\"text-align: right;\">\n",
       "      <th></th>\n",
       "      <th>Borough</th>\n",
       "      <th>Cluster Labels</th>\n",
       "      <th>1st Most Common Venue</th>\n",
       "      <th>2nd Most Common Venue</th>\n",
       "    </tr>\n",
       "  </thead>\n",
       "  <tbody>\n",
       "    <tr>\n",
       "      <th>0</th>\n",
       "      <td>Nepean</td>\n",
       "      <td>0</td>\n",
       "      <td>Coffee Shop</td>\n",
       "      <td>Café</td>\n",
       "    </tr>\n",
       "  </tbody>\n",
       "</table>\n",
       "</div>"
      ],
      "text/plain": [
       "  Borough  Cluster Labels 1st Most Common Venue 2nd Most Common Venue\n",
       "0  Nepean               0           Coffee Shop                  Café"
      ]
     },
     "execution_count": 45,
     "metadata": {},
     "output_type": "execute_result"
    }
   ],
   "source": [
    "barrhaven_merged.loc[barrhaven_merged['Cluster Labels'] == 0, barrhaven_merged.columns[[1] + list(range(5, barrhaven_merged.shape[1]))]]"
   ]
  }
 ],
 "metadata": {
  "kernelspec": {
   "display_name": "Python 3",
   "language": "python",
   "name": "python3"
  },
  "language_info": {
   "codemirror_mode": {
    "name": "ipython",
    "version": 3
   },
   "file_extension": ".py",
   "mimetype": "text/x-python",
   "name": "python",
   "nbconvert_exporter": "python",
   "pygments_lexer": "ipython3",
   "version": "3.6.2"
  }
 },
 "nbformat": 4,
 "nbformat_minor": 2
}
