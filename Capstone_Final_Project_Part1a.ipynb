{
 "cells": [
  {
   "cell_type": "markdown",
   "metadata": {},
   "source": [
    "# Capstone Project - Final Assignment (Part 1)"
   ]
  },
  {
   "cell_type": "markdown",
   "metadata": {},
   "source": [
    "#### Applied Data Science Capstone IBM/Coursea\n",
    "This is part 1 of the Capstone Final Assignment from Week 1"
   ]
  },
  {
   "cell_type": "markdown",
   "metadata": {},
   "source": [
    "## 1.0 &nbsp; Introduction"
   ]
  },
  {
   "cell_type": "markdown",
   "metadata": {},
   "source": [
    "### 1.1 &nbsp; Background"
   ]
  },
  {
   "cell_type": "markdown",
   "metadata": {},
   "source": [
    "<p><div style=\"margin-left: 25px; margin-right: 50px; text-align:justify\">Planning to open a cafe bar that will offer a unique coffee and bubble tea drinking experience featuring specialty coffee beans and variety of handcrafted drinks in Ottawa. The shop will also sells homemade healthy sneaks such as low fat, whole grain muffins, red beans and rice, and fresh fruit.</div></p>\n",
    "<p><div style=\"margin-left: 25px; margin-right: 50px; text-align:justify\">The atmosphere of the cafe will be youth-oriented and casual, with rich, bold colors accenting a primarily wood decor. There will be \"work area\" set up for people who comes in for a working lunch or to study. These area will be in one section of the cafe, separated so the patrons can have a more quiet work area. Internet connections will be provided at these spots as well.</div></p>"
   ]
  },
  {
   "cell_type": "markdown",
   "metadata": {},
   "source": [
    "### 1.2 &nbsp; About Ottawa"
   ]
  },
  {
   "cell_type": "markdown",
   "metadata": {},
   "source": [
    "<div style=\"margin-left: 25px; margin-right: 50px; text-align:justify\">Ottawa is the capital city of Canada and it's the fourth largest city in Canada by population. It is a vibrant, safe and youthful city, containing a diverse and eclectic mix of neighbourhoods. Ottawa has a population estimated at 934,243 as of 2016 and has a population density of 317 people per square kilometer (820/sq mi). The city covers a total surface area of 2,796 kilometers squared and is larger than the cities of Toronto, Montreal, Vancouver, Calgary and Edmonton combined.</div>\n",
    "\n",
    "<p><div style=\"margin-left: 25px; margin-right: 50px; text-align:justify\">There are over 80 neighbourhoods within city border and Barrhaven has the highest population and it still rapidly growing when compared to other neighbourhoods in Ottawa. Barrhaven is bounded by Fallowfield Road to the north, Strandherd Road to the south, Greenbank Road to the east, and Cedarview Road to the west. Its has a total surface area of 42.93 km squared. </div></p>"
   ]
  },
  {
   "cell_type": "markdown",
   "metadata": {},
   "source": [
    "### 1.3 &nbsp; Business Problems"
   ]
  },
  {
   "cell_type": "markdown",
   "metadata": {},
   "source": [
    "<div style=\"margin-left: 25px; margin-right: 50px; text-align:justify\">Determine if Barrhaven in Ottawa an optimal neighborhood for opening a new cafe with available data.</div>"
   ]
  },
  {
   "cell_type": "markdown",
   "metadata": {},
   "source": [
    "#### <div style=\"margin-left: 25px\"> Question 1: How many similar coffee shops already exist?</div>"
   ]
  },
  {
   "cell_type": "markdown",
   "metadata": {},
   "source": [
    "<div style=\"margin-left: 25px; margin-right: 50px; text-align:justify\">The number of similar coffee shops will have affected on the new cafe to generate profit. This question will be answered by using Foursquare API.</div>"
   ]
  },
  {
   "cell_type": "markdown",
   "metadata": {},
   "source": [
    "#### <div style=\"margin-left: 25px\"> Question 2: How many local business and residence?</div>"
   ]
  },
  {
   "cell_type": "markdown",
   "metadata": {},
   "source": [
    "<div style=\"margin-left: 25px; margin-right: 50px; text-align:justify\">The number of local businesses and residences within a neighborhood will be a good indicator for the new cafe if the business will be sustainable and aspects of how it operates, such as total sales and how costly it is to run. This question will also be answered by using Foursquare API.</div>"
   ]
  },
  {
   "cell_type": "markdown",
   "metadata": {},
   "source": [
    "#### <div style=\"margin-left: 25px\"> Question 3: What is the population density, average household income and age group of Barrhaven?</div>"
   ]
  },
  {
   "cell_type": "markdown",
   "metadata": {},
   "source": [
    "<div style=\"margin-left: 25px; margin-right: 50px; text-align:justify\">Answering this question will help the new cafe to understand who their customer and decisions will be making of the cafe layout design and service. The data will be coming from City of Ottawa OpenData website.</div> "
   ]
  }
 ],
 "metadata": {
  "kernelspec": {
   "display_name": "Python 3",
   "language": "python",
   "name": "python3"
  },
  "language_info": {
   "codemirror_mode": {
    "name": "ipython",
    "version": 3
   },
   "file_extension": ".py",
   "mimetype": "text/x-python",
   "name": "python",
   "nbconvert_exporter": "python",
   "pygments_lexer": "ipython3",
   "version": "3.6.2"
  }
 },
 "nbformat": 4,
 "nbformat_minor": 2
}
